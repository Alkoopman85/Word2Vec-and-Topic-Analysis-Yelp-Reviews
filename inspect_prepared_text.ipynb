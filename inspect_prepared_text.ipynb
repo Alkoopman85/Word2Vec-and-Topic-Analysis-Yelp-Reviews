{
 "cells": [
  {
   "attachments": {},
   "cell_type": "markdown",
   "metadata": {},
   "source": [
    "# Data Prep Inspection\n",
    "In this notebook we will look at the data prep for the LDA and word2vec models. The process starts with the spacy processing pipeline. This results in the writing of two files one contains only unigram sentences one sentence per line and the other contains unigram reviews one review per line. This saves us a step and we will only have to pass the text through the spacy pipeline once which is quite time consuming. Next we train our bigram Phrases model and wright the output of that model to a file. That output is then used to train our trigram Phrases model and the corpus is then passed through it to get an output sutable for the word to vec model. Finlly we feed the unigram review corpus through our bigram and trigram Phrases models, remove stopwords and wright out the processed reviews sutable for training our LDA model.\n",
    "\n",
    "see prep_data.py for exact process and all functions used."
   ]
  },
  {
   "cell_type": "code",
   "execution_count": 1,
   "metadata": {},
   "outputs": [],
   "source": [
    "import spacy\n",
    "from itertools import islice\n",
    "from typing import Generator, Any\n",
    "from pathlib import Path"
   ]
  },
  {
   "attachments": {},
   "cell_type": "markdown",
   "metadata": {},
   "source": [
    "## Extracting Unigram Sentences and reviews\n",
    "First we need to define a function to extract a slice of our file without loading the full file into memory. In many cases when working with very large corpora it is necessary to stream data from disc."
   ]
  },
  {
   "cell_type": "code",
   "execution_count": 2,
   "metadata": {},
   "outputs": [],
   "source": [
    "def get_reviews_slice(file_path:str|Path, start:int, stop:int) -> Generator[str, None, None]:\n",
    "    \"\"\"grabs a slice from a text file\n",
    "\n",
    "    Args:\n",
    "        file_path (str | Path): Path to the file\n",
    "        start (int): the line where we want to start\n",
    "        stop (int): the end of the slice\n",
    "\n",
    "    Yields:\n",
    "        Generator[str, None, None]: a text review string\n",
    "    \"\"\"\n",
    "    with open(file_path, 'r', encoding='utf-8') as reviews_file:\n",
    "        for review in islice(reviews_file, start, stop):\n",
    "            yield review.replace('\\\\n', '\\n')"
   ]
  },
  {
   "attachments": {},
   "cell_type": "markdown",
   "metadata": {},
   "source": [
    "This step is the first in the pipeline, where the text is processed by the spacy model. This does things like tokenization, converting to lowercase, lemmatization, and named entity recognition. We also remove punctuation and extra spaces."
   ]
  },
  {
   "cell_type": "code",
   "execution_count": 3,
   "metadata": {},
   "outputs": [
    {
     "name": "stdout",
     "output_type": "stream",
     "text": [
      "\n",
      "Review: 1\n",
      "\n",
      "Original Review:\n",
      "\n",
      "If you decide to eat here, just be aware it is going to take about 2 hours from beginning to end. We have tried it multiple times, because I want to like it! I have been to it's other locations in NJ and never had a bad experience. \n",
      "\n",
      "The food is good, but it takes a very long time to come out. The waitstaff is very young, but usually pleasant. We have just had too many experiences where we spent way too long waiting. We usually opt for another diner or restaurant on the weekends, in order to be done quicker.\n",
      "\n",
      "\n",
      "Lemmatized Review Sentences:\n",
      "\n",
      "if you decide to eat here just be aware it be go to take about 2 hour from begin to end\n",
      "we have try it multiple time because I want to like it\n",
      "I have be to it be other location in NJ and never have a bad experience\n",
      "the food be good but it take a very long time to come out\n",
      "the waitstaff be very young but usually pleasant\n",
      "we have just have too many experience where we spend way too long wait\n",
      "we usually opt for another diner or restaurant on the weekend in order to be do quick\n",
      "\n",
      "====================================================================================================\n",
      "\n",
      "Review: 2\n",
      "\n",
      "Original Review:\n",
      "\n",
      "Family diner. Had the buffet. Eclectic assortment: a large chicken leg, fried jalapeño, tamale, two rolled grape leaves, fresh melon. All good. Lots of Mexican choices there. Also has a menu with breakfast served all day long. Friendly, attentive staff. Good place for a casual relaxed meal with no expectations. Next to the Clarion Hotel.\n",
      "\n",
      "\n",
      "Lemmatized Review Sentences:\n",
      "\n",
      "family diner\n",
      "have the buffet\n",
      "eclectic assortment a large chicken leg fried jalapeño tamale two roll grape leave fresh melon\n",
      "all good\n",
      "lot of mexican choice there\n",
      "also have a menu with breakfast serve all day long\n",
      "friendly attentive staff\n",
      "good place for a casual relaxed meal with no expectation\n",
      "next to the Clarion Hotel\n",
      "\n",
      "====================================================================================================\n",
      "\n",
      "Review: 3\n",
      "\n",
      "Original Review:\n",
      "\n",
      "Wow!  Yummy, different,  delicious.   Our favorite is the lamb curry and korma.  With 10 different kinds of naan!!!  Don't let the outside deter you because we almost changed our minds...go in and try something new!   You'll be glad you did!\n",
      "\n",
      "\n",
      "Lemmatized Review Sentences:\n",
      "\n",
      "wow Yummy different delicious\n",
      "our favorite be the lamb curry and korma\n",
      "with 10 different kind of naan\n",
      "do not let the outside deter you because we almost change our mind go in and try something new\n",
      "you will be glad you do\n",
      "\n",
      "====================================================================================================\n",
      "\n",
      "Review: 4\n",
      "\n",
      "Original Review:\n",
      "\n",
      "Cute interior and owner ? gave us tour of upcoming patio/rooftop area which will be great on beautiful days like today. Cheese curds were very good and very filling. Really like that sandwiches come w salad, esp after eating too many curds! Had the onion, gruyere, tomato sandwich. Wasn't too much cheese which I liked. Needed something else...pepper jelly maybe. Would like to see more menu options added such as salads w fun cheeses. Lots of beer and wine as well as limited cocktails. Next time I will try one of the draft wines.\n",
      "\n",
      "\n",
      "Lemmatized Review Sentences:\n",
      "\n",
      "cute interior and owner\n",
      "give we tour of upcoming patio rooftop area which will be great on beautiful day like today\n",
      "cheese curd be very good and very filling\n",
      "really like that sandwich come w salad esp after eat too many curd\n",
      "have the onion gruyere tomato sandwich\n",
      "be not too much cheese which I like\n",
      "need something else pepper jelly maybe\n",
      "would like to see more menu option add such as salad w fun cheese\n",
      "lot of beer and wine as well as limited cocktail\n",
      "next time I will try one of the draft wine\n",
      "\n",
      "====================================================================================================\n",
      "\n",
      "Review: 5\n",
      "\n",
      "Original Review:\n",
      "\n",
      "I am a long term frequent customer of this establishment. I just went in to order take out 3 apps and was told they're too busy to do it. Really? The place is maybe half full at best. Does your dick reach your ass? Yes? Go fuck yourself! I'm a frequent customer AND great tipper. Glad that Kanella just opened. NEVER going back to dmitris!\n",
      "\n",
      "\n",
      "Lemmatized Review Sentences:\n",
      "\n",
      "I be a long term frequent customer of this establishment\n",
      "I just go in to order take out 3 app and be tell they be too busy to do it\n",
      "really\n",
      "the place be maybe half full at well\n",
      "do your dick reach your ass\n",
      "yes\n",
      "go fuck yourself\n",
      "I be a frequent customer and great tipper\n",
      "glad that Kanella just open\n",
      "never go back to dmitris\n",
      "\n",
      "====================================================================================================\n"
     ]
    }
   ],
   "source": [
    "# en_core_web_trf slower/more accurate, has max len of ~500 tokens\n",
    "# en_core_web_sm faster/less acurate\n",
    "spacy_model = spacy.load('en_core_web_sm')\n",
    "\n",
    "for index, review in enumerate(get_reviews_slice('data/raw_reviews.txt', 0, 5), start=1):\n",
    "    print(f'\\nReview: {index}')\n",
    "    print('\\nOriginal Review:\\n')\n",
    "    print(review)\n",
    "    print('\\nLemmatized Review Sentences:\\n')\n",
    "    prep_revs = spacy_model(review)\n",
    "    \n",
    "    for sentence in prep_revs.sents:\n",
    "        lemmatized_sentence = ' '.join([token.lemma_ for token in sentence if not token.is_punct and not token.is_space])\n",
    "        print(lemmatized_sentence)\n",
    "    print()\n",
    "    print('='*100)"
   ]
  },
  {
   "attachments": {},
   "cell_type": "markdown",
   "metadata": {},
   "source": [
    "### Inspect unigram sentences\n",
    "Lets inspect the results of the first step, creating unigram sentences from the review text."
   ]
  },
  {
   "cell_type": "code",
   "execution_count": 4,
   "metadata": {},
   "outputs": [
    {
     "name": "stdout",
     "output_type": "stream",
     "text": [
      "if you decide to eat here just be aware it be go to take about hour from begin to end\n",
      "we have try it multiple time because I want to like it\n",
      "I have be to it be other location in NJ and never have a bad experience\n",
      "the food be good but it take a very long time to come out\n",
      "the waitstaff be very young but usually pleasant\n",
      "we have just have too many experience where we spend way too long wait\n",
      "we usually opt for another diner or restaurant on the weekend in order to be do quick\n",
      "family diner\n",
      "have the buffet\n",
      "eclectic assortment a large chicken leg fried jalapeño tamale two roll grape leave fresh melon\n",
      "all good\n",
      "lot of mexican choice there\n",
      "also have a menu with breakfast serve all day long\n",
      "friendly attentive staff\n",
      "good place for a casual relaxed meal with no expectation\n",
      "next to the Clarion Hotel\n",
      "wow Yummy different delicious\n",
      "our favorite be the lamb curry and korma\n",
      "with different kind of naan\n",
      "do not let the outside deter you because we almost change our mind go in and try something new\n"
     ]
    }
   ],
   "source": [
    "for line in get_reviews_slice(file_path='data/unigram_sents.txt', start=0, stop=20):\n",
    "    print(line.rstrip('\\n'))"
   ]
  },
  {
   "attachments": {},
   "cell_type": "markdown",
   "metadata": {},
   "source": [
    "### Inspect bigram sentences\n",
    "Next lets inspect the bigram sentences output after training and saving the bigram Phrases model."
   ]
  },
  {
   "cell_type": "code",
   "execution_count": 5,
   "metadata": {},
   "outputs": [
    {
     "name": "stdout",
     "output_type": "stream",
     "text": [
      "if you decide to eat here just be aware it be go to take about hour from begin to end\n",
      "we have try it multiple time because I want to like it\n",
      "I have be to it be other location in NJ and never have a bad experience\n",
      "the food be good but it take a very long time to come out\n",
      "the waitstaff be very young but usually pleasant\n",
      "we have just have too many experience where we spend way too long wait\n",
      "we usually opt for another diner or restaurant on the weekend in order to be do quick\n",
      "family diner\n",
      "have the buffet\n",
      "eclectic assortment a large chicken leg fried jalapeño tamale two roll grape_leave fresh melon\n",
      "all good\n",
      "lot of mexican choice there\n",
      "also have a menu with breakfast serve all day long\n",
      "friendly attentive staff\n",
      "good place for a casual relaxed meal with no expectation\n",
      "next to the Clarion_Hotel\n",
      "wow Yummy different delicious\n",
      "our favorite be the lamb curry and korma\n",
      "with different kind of naan\n",
      "do not let the outside deter you because we almost change our mind go in and try something new\n"
     ]
    }
   ],
   "source": [
    "for line in get_reviews_slice(file_path='data/bigram_sents.txt', start=0, stop=20):\n",
    "    print(line.rstrip('\\n'))"
   ]
  },
  {
   "attachments": {},
   "cell_type": "markdown",
   "metadata": {},
   "source": [
    "Above we can see that things like grape_leave was created as they apear together in the text frequently. we can also see that named entities from the spacy model are also concatemated like Clarion_Hotel as they also apear together in the text.\n",
    "\n",
    "### Inspect trigram sentences\n",
    "Next we will look at the output of the trigram Phraser model."
   ]
  },
  {
   "cell_type": "code",
   "execution_count": 6,
   "metadata": {},
   "outputs": [
    {
     "name": "stdout",
     "output_type": "stream",
     "text": [
      "the bun make the Sonoran_Dog\n",
      "it be like a snuggie for the pup\n",
      "a first it seem ridiculous and almost like it be go to be too much exactly like everyone 's favorite blanket with sleeve\n",
      "too much softness too much smush too indulgent\n",
      "Wrong\n",
      "it be warm soft chewy fragrant and it succeed where other famed Sonoran_Dogs fail\n",
      "the hot_dog itself be flavorful but I would prefer that it or the bacon have a little more bite or snap to well hold their own against the dominant mustard and onion\n",
      "I be with the masse on the carne_asada_caramelo\n",
      "excellent tortilla salty melty_cheese and great carne\n",
      "Super cheap and you can drive_through\n",
      "great place for breakfast\n",
      "I have the waffle which be fluffy and perfect and home fry which be nice and smash and crunchy\n",
      "friendly waitstaff\n",
      "will definitely be back\n",
      "tremendous service Big shout_out to Douglas that complement the delicious food\n",
      "pretty expensive establishment $ avg for your main_course but its definitely back that up with an atmosphere that be comparable with any of the top_tier restaurant across_the_country\n",
      "the hubby and I have be here on multiple_occasion and we have love every part of the meal every_single time\n",
      "everyone from the server to the bartender be very knowledgable about the menu and be able to immediately recommend item I could eat as is substitute or delete to make something safe for this celiac girl to eat\n",
      "the wine and cocktail menu be spot on\n",
      "the food divine\n"
     ]
    }
   ],
   "source": [
    "for line in get_reviews_slice(file_path='data/trigram_sents.txt', start=60, stop=80):\n",
    "    print(line.rstrip('\\n'))"
   ]
  },
  {
   "attachments": {},
   "cell_type": "markdown",
   "metadata": {},
   "source": [
    "Above we can see terms like carne_asada_caramelo and across_the_country have been created.\n",
    "\n",
    "### inspect Trigram Reviews\n",
    "\n",
    "Finally lets look at the output of the full reviews that will be used to train the LDA model. Where after processing and Phrase detection we remove remaining stopwords."
   ]
  },
  {
   "cell_type": "code",
   "execution_count": 7,
   "metadata": {},
   "outputs": [
    {
     "name": "stdout",
     "output_type": "stream",
     "text": [
      "\n",
      "Origonal review:\n",
      "\n",
      "Tried this place out after many suggestions from friends.  We went in one night about an hour or so before closing just to find that they were only serving a partial menu - we're not talking that late, it was like, 9:30 on a weekend.  There was no mention of going down to a bar menu on the website so I was a bit annoyed by that.  Something about 'surprise disappointments that could be totally avoided' really bother me.  So, the dish I had picked out online wasn't available and I ordered a burger instead.  The server seemed to have a very hard time understanding my burger and suggested that modifications couldn't be made?  I told him I'm sure removing a single topping wouldn't cause the kitchen staff any issues...  The rest of the meal we were generally ignored and the service wasn't great.  I found the food to be overpriced for the quality.  Unless there is a special reason to attend, I don't think we'll be going back.\n",
      "\n",
      "\n",
      "Trigram Review:\n",
      "\n",
      "try place suggestion friend night hour close find serve partial menu talk late like 9:30 weekend mention bar menu website I bit annoyed surprise disappointment totally avoid bother I dish I pick online available I order burger instead server hard time understand burger suggest modification I tell I sure remove single topping cause kitchen staff issue rest meal generally ignore service great I find food overprice quality special reason attend I think\n",
      "\n",
      "\n",
      "====================================================================================================\n",
      "\n",
      "Origonal review:\n",
      "\n",
      "Second visit even better than the first!!  Loved the butternut squash and goat cheese Rangoons, and the delightfully filling mushroom yakisoba. Amazing flavor, and a smoky , meaty feel though it is meatless. Then came the coconut curry ramen. Heaven in a bowl. \n",
      "My only complaint is when you have to wait for seating there is no way to hang by the bar without constantly feeling you are in The servers' way as they breeze by with deliciousness in bowls and plates. So worth the wait before heading to the theater. Plus, food comes out very quickly so we made the curtain, just barely, but with really happy tummies.\n",
      "\n",
      "\n",
      "Trigram Review:\n",
      "\n",
      "second visit love butternut_squash goat_cheese Rangoons delightfully fill mushroom yakisoba amazing flavor smoky meaty feel meatless come coconut_curry_raman Heaven bowl only_complaint wait seating way hang bar constantly feel server way breeze deliciousness bowl plate worth wait head theater plus food come quickly curtain barely happy_tummy\n",
      "\n",
      "\n",
      "====================================================================================================\n",
      "\n",
      "Origonal review:\n",
      "\n",
      "I cannot comment on the food as I had only a couple beers. I did have the white IPA and a red ale which were good but not blow me away. I might be spoiled having 2 friends who brew professionally but the beers were good, not outstanding. The location is kind of far from other stuff which normally wouldn't bother me but everything around is seriously industrial and scenery does make a better place. They do discount the beer $1 when a train comes by and maybe that's the best they can make of a meh location. Probably give it more like a 3.5 stars. It does say something that there was a loyal following at 4pm on a Sunday.\n",
      "\n",
      "\n",
      "Trigram Review:\n",
      "\n",
      "I comment food I couple beer I white IPA red_ale good blow I away I spoil friend brew professionally beer good outstanding location kind far stuff normally bother I seriously industrial scenery place discount beer $ train come maybe good meh location probably like 3.5_star loyal_following pm Sunday\n",
      "\n",
      "\n",
      "====================================================================================================\n",
      "\n",
      "Origonal review:\n",
      "\n",
      "A bit off the beaten path for most tourists, as it is in the Marigny, but worth the trip. Sure, the place is not perfect, but there are ultra-expensive restaurants in the FQ that are also not perfect. Look, cheap food, especially food this good, gives \"wiggle\" room for imperfections.\n",
      "\n",
      "Breakfast served all day is a bonus. Sometimes you just got to have a lox omelet under $10 late in the day. The restaurant boasts vegetarian and *gasp* vegan dishes, but someone needs to tell them that cheese doesn't fit into either of those categories. That aside, the french fry poboy, and the mac 'n cheese sandwiches are amazing. So is the Saturday Blue Plate of BBQ Chicken legs. \n",
      "\n",
      "Every entree is under $10, well except for the Friday Blue Plate, but why quibble? And who can argue with $5 Bloody Mary's, especially ones that are this good?\n",
      "\n",
      "\n",
      "Trigram Review:\n",
      "\n",
      "bit off_the_beat_path tourist Marigny worth trip sure place perfect ultra expensive restaurant FQ perfect look cheap food especially food good wiggle_room imperfection Breakfast serve day bonus lox omelet $ late day restaurant boast vegetarian gasp vegan dish need tell cheese fit category aside french_fry poboy mac_n_cheese sandwich amazing Saturday Blue_Plate BBQ Chicken leg entree $ Friday Blue_Plate quibble argue $ Bloody_Mary especially good\n",
      "\n",
      "\n",
      "====================================================================================================\n",
      "\n",
      "Origonal review:\n",
      "\n",
      "Awesome sangria.  Rotating craft beers. Pizza and calzones keep me coming back\n",
      "\n",
      "\n",
      "Trigram Review:\n",
      "\n",
      "Awesome sangria rotate_craft_beer pizza calzone I come\n",
      "\n",
      "\n",
      "====================================================================================================\n"
     ]
    }
   ],
   "source": [
    "start, stop = 500, 505\n",
    "raw_revs_gen_slice = list(get_reviews_slice('data/raw_reviews.txt', start, stop))\n",
    "\n",
    "trigram_revs_gen_slice = list(get_reviews_slice('data/trigram_reviews.txt', start, stop))\n",
    "\n",
    "for rev_ind in range(stop-start):\n",
    "    print('\\nOrigonal review:\\n')\n",
    "    print(raw_revs_gen_slice[rev_ind])\n",
    "    print('\\nTrigram Review:\\n')\n",
    "    print(trigram_revs_gen_slice[rev_ind])\n",
    "    print()\n",
    "    print('='*100)"
   ]
  },
  {
   "cell_type": "code",
   "execution_count": null,
   "metadata": {},
   "outputs": [],
   "source": []
  }
 ],
 "metadata": {
  "kernelspec": {
   "display_name": "topic_analysis",
   "language": "python",
   "name": "python3"
  },
  "language_info": {
   "codemirror_mode": {
    "name": "ipython",
    "version": 3
   },
   "file_extension": ".py",
   "mimetype": "text/x-python",
   "name": "python",
   "nbconvert_exporter": "python",
   "pygments_lexer": "ipython3",
   "version": "3.10.9"
  },
  "orig_nbformat": 4,
  "vscode": {
   "interpreter": {
    "hash": "daddcedf2ef08ee9057eb98d0d37d8e7965ac32cbf0180acf4d2f22c443b4b29"
   }
  }
 },
 "nbformat": 4,
 "nbformat_minor": 2
}
